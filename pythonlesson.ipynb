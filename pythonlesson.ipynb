{
 "cells": [
  {
   "cell_type": "code",
   "execution_count": 2,
   "metadata": {},
   "outputs": [
    {
     "data": {
      "text/plain": [
       "3"
      ]
     },
     "execution_count": 2,
     "metadata": {},
     "output_type": "execute_result"
    }
   ],
   "source": [
    "a=1\n",
    "b=2\n",
    "\n",
    "a + a"
   ]
  },
  {
   "cell_type": "code",
   "execution_count": 5,
   "metadata": {},
   "outputs": [
    {
     "name": "stdout",
     "output_type": "stream",
     "text": [
      "7の倍数\n"
     ]
    }
   ],
   "source": [
    "var = 14\n",
    "\n",
    "if var % 5 == 0:\n",
    "    print(\"5の倍数\")\n",
    "\n",
    "elif var % 7 == 0:\n",
    "    print(\"7の倍数\")\n",
    "\n",
    "else:\n",
    "    print(\"それ以外\")"
   ]
  },
  {
   "cell_type": "code",
   "execution_count": 6,
   "metadata": {},
   "outputs": [
    {
     "name": "stdout",
     "output_type": "stream",
     "text": [
      "水\n",
      "金\n",
      "地\n",
      "火\n",
      "木\n",
      "土\n"
     ]
    }
   ],
   "source": [
    "array = [\"水\",\"金\",\"地\",\"火\",\"木\",\"土\"]\n",
    "\n",
    "for arr in array:\n",
    "    print(arr)"
   ]
  },
  {
   "cell_type": "code",
   "execution_count": 3,
   "metadata": {},
   "outputs": [
    {
     "name": "stdout",
     "output_type": "stream",
     "text": [
      "おはようございます！\n",
      "昨日はよく眠れましたか？\n",
      "今日も一日頑張りましょう！\n"
     ]
    }
   ],
   "source": [
    "def say_good_morning():\n",
    "    print(\"おはようございます！\")\n",
    "    print(\"昨日はよく眠れましたか？\")\n",
    "    print(\"今日も一日頑張りましょう！\")\n",
    "\n",
    "say_good_morning()"
   ]
  },
  {
   "cell_type": "code",
   "execution_count": 6,
   "metadata": {},
   "outputs": [
    {
     "name": "stdout",
     "output_type": "stream",
     "text": [
      "1700円\n"
     ]
    }
   ],
   "source": [
    "def calculate_total(price):\n",
    "    total = price + 500\n",
    "    print(f\"{total}円\")\n",
    "\n",
    "calculate_total(1200)"
   ]
  },
  {
   "cell_type": "code",
   "execution_count": 13,
   "metadata": {},
   "outputs": [
    {
     "data": {
      "text/plain": [
       "1700"
      ]
     },
     "execution_count": 13,
     "metadata": {},
     "output_type": "execute_result"
    }
   ],
   "source": [
    "def kakaku_souryou(price: int, fee: int)-> int:\n",
    "    total = price + fee\n",
    "    return total\n",
    "#print(f\"{total}円\")\n",
    "\n",
    "total = kakaku_souryou(1200, 500)\n",
    "#print(total)\n",
    "total"
   ]
  },
  {
   "cell_type": "code",
   "execution_count": 20,
   "metadata": {},
   "outputs": [
    {
     "data": {
      "text/plain": [
       "1320.0"
      ]
     },
     "execution_count": 20,
     "metadata": {},
     "output_type": "execute_result"
    }
   ],
   "source": [
    "def kakaku_syouhizei(price : int, syouhizei: int):\n",
    "    total = price + syouhizei / 100 *price\n",
    "    return total\n",
    "\n",
    "total = kakaku_syouhizei(1200, 10)\n",
    "total"
   ]
  },
  {
   "cell_type": "code",
   "execution_count": 25,
   "metadata": {},
   "outputs": [
    {
     "data": {
      "text/plain": [
       "88"
      ]
     },
     "execution_count": 25,
     "metadata": {},
     "output_type": "execute_result"
    }
   ],
   "source": [
    "class Human:\n",
    "    def __init__ (self ,name ,age):\n",
    "        self.name = name\n",
    "        self.age = age\n",
    "\n",
    "user = Human(\"太郎\",88)\n",
    "user.age"
   ]
  },
  {
   "cell_type": "code",
   "execution_count": null,
   "metadata": {},
   "outputs": [],
   "source": []
  }
 ],
 "metadata": {
  "kernelspec": {
   "display_name": "Python 3",
   "language": "python",
   "name": "python3"
  },
  "language_info": {
   "codemirror_mode": {
    "name": "ipython",
    "version": 3
   },
   "file_extension": ".py",
   "mimetype": "text/x-python",
   "name": "python",
   "nbconvert_exporter": "python",
   "pygments_lexer": "ipython3",
   "version": "3.12.4"
  }
 },
 "nbformat": 4,
 "nbformat_minor": 2
}
